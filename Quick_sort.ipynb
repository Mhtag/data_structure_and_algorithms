{
  "nbformat": 4,
  "nbformat_minor": 0,
  "metadata": {
    "colab": {
      "name": "Quick_sort.ipynb",
      "provenance": [],
      "collapsed_sections": [],
      "authorship_tag": "ABX9TyOniJgdVwstUQRE9XEhkHkc",
      "include_colab_link": true
    },
    "kernelspec": {
      "name": "python3",
      "display_name": "Python 3"
    },
    "language_info": {
      "name": "python"
    }
  },
  "cells": [
    {
      "cell_type": "markdown",
      "metadata": {
        "id": "view-in-github",
        "colab_type": "text"
      },
      "source": [
        "<a href=\"https://colab.research.google.com/github/Mhtag/data_structure_and_algorithms/blob/main/Quick_sort.ipynb\" target=\"_parent\"><img src=\"https://colab.research.google.com/assets/colab-badge.svg\" alt=\"Open In Colab\"/></a>"
      ]
    },
    {
      "cell_type": "code",
      "metadata": {
        "id": "JI9zow7i9yMO"
      },
      "source": [
        "numbers = [9,6,24,5,3,18,21]"
      ],
      "execution_count": null,
      "outputs": []
    },
    {
      "cell_type": "code",
      "metadata": {
        "id": "W4EKhdkiGj2c"
      },
      "source": [
        "def swap(a,b,arr):\n",
        "  if a != b:\n",
        "    tmp = arr[a]\n",
        "    arr[a] = arr[b]\n",
        "    arr[b] = tmp\n",
        "\n",
        "def partition(elements):\n",
        "  pivot_index=0\n",
        "  pivot = elements[pivot_index]\n",
        "  start = pivot_index + 1\n",
        "  end = len(elements) - 1\n",
        "\n",
        "  while start < end:\n",
        "    while elements[start] <= pivot:\n",
        "      start += 1\n",
        "\n",
        "    while elements[end] > pivot:\n",
        "      end -= 1\n",
        "\n",
        "    if start < end:\n",
        "      swap(start, end, elements)\n",
        "\n",
        "  swap(pivot_index, end, elements)\n",
        "\n",
        "def quick_sort(elements):\n",
        "  partition(elements)\n",
        "\n"
      ],
      "execution_count": null,
      "outputs": []
    },
    {
      "cell_type": "code",
      "metadata": {
        "colab": {
          "base_uri": "https://localhost:8080/"
        },
        "id": "RlXONZMxK6i7",
        "outputId": "4a3265e4-3682-4bba-b121-4093c3620b45"
      },
      "source": [
        "quick_sort(numbers)\n",
        "print(numbers)"
      ],
      "execution_count": null,
      "outputs": [
        {
          "output_type": "stream",
          "name": "stdout",
          "text": [
            "[3, 5, 6, 9, 24, 18, 21]\n"
          ]
        }
      ]
    },
    {
      "cell_type": "code",
      "metadata": {
        "id": "pIPo3-xxvER2"
      },
      "source": [
        "numbers = [9,19,11,5]   # [9,11,19,5,3,18,16] ,[3, 1, 5, 9, 7, 2, 4, 8]"
      ],
      "execution_count": 2,
      "outputs": []
    },
    {
      "cell_type": "code",
      "metadata": {
        "id": "1qTFQdC-LA_5"
      },
      "source": [
        "def partition(arr, start, end):\n",
        "  pivot = arr[start]\n",
        "  i = start + 1\n",
        "  j = end\n",
        "\n",
        "  while i<j:\n",
        "    while arr[i] <= pivot:\n",
        "      i += 1\n",
        "\n",
        "    while arr[j] > pivot:\n",
        "      j -= 1\n",
        "  \n",
        "    if i<j:\n",
        "      temp = arr[i]\n",
        "      arr[i] = arr[j]\n",
        "      arr[j] = temp\n",
        "      print(arr)\n",
        "  \n",
        "  temp = arr[start]\n",
        "  arr[start] = arr[j]\n",
        "  arr[j] = temp\n",
        "  return j\n",
        "\n",
        "def quick_sort(arr ,start, end):\n",
        "  if start < end:\n",
        "    pivot_index = partition(arr, start, end)\n",
        "    quick_sort(arr, start, pivot_index-1)\n",
        "    quick_sort(arr, pivot_index+1, end)"
      ],
      "execution_count": 15,
      "outputs": []
    },
    {
      "cell_type": "code",
      "metadata": {
        "colab": {
          "base_uri": "https://localhost:8080/"
        },
        "id": "3GQcWd5b0bUw",
        "outputId": "8ac413ce-d0b5-4348-ba98-202c221fe0ed"
      },
      "source": [
        "arr = [3, 5, 2, 13, 12, 3, 2, 13, 45]\n",
        "quick_sort(arr, 0, len(arr)-1)\n",
        "print(arr) "
      ],
      "execution_count": 20,
      "outputs": [
        {
          "output_type": "stream",
          "name": "stdout",
          "text": [
            "[3, 2, 2, 13, 12, 3, 5, 13, 45]\n",
            "[3, 2, 2, 3, 12, 13, 5, 13, 45]\n",
            "[2, 2, 3, 3, 12, 5, 13, 13, 45]\n",
            "[2, 2, 3, 3, 5, 12, 13, 13, 45]\n"
          ]
        }
      ]
    },
    {
      "cell_type": "code",
      "metadata": {
        "id": "yCGTPwvmOmID"
      },
      "source": [
        ""
      ],
      "execution_count": null,
      "outputs": []
    },
    {
      "cell_type": "code",
      "metadata": {
        "id": "QxA-mHJY0r7u"
      },
      "source": [
        ""
      ],
      "execution_count": null,
      "outputs": []
    }
  ]
}