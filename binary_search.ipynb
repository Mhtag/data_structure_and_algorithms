{
  "nbformat": 4,
  "nbformat_minor": 0,
  "metadata": {
    "colab": {
      "name": "binary_search.ipynb",
      "provenance": [],
      "authorship_tag": "ABX9TyOE3YJr5tGFoMOihjwQ2S0b",
      "include_colab_link": true
    },
    "kernelspec": {
      "name": "python3",
      "display_name": "Python 3"
    },
    "language_info": {
      "name": "python"
    }
  },
  "cells": [
    {
      "cell_type": "markdown",
      "metadata": {
        "id": "view-in-github",
        "colab_type": "text"
      },
      "source": [
        "<a href=\"https://colab.research.google.com/github/Mhtag/data_structure_and_algorithms/blob/main/binary_search.ipynb\" target=\"_parent\"><img src=\"https://colab.research.google.com/assets/colab-badge.svg\" alt=\"Open In Colab\"/></a>"
      ]
    },
    {
      "cell_type": "code",
      "metadata": {
        "id": "pH4Be7xlLbzb"
      },
      "source": [
        "def binary_search(arr, query):\n",
        "  low = 0\n",
        "  high = len(arr) - 1\n",
        "\n",
        "  while low <= high:\n",
        "    mid = (low+high)//2\n",
        "\n",
        "    if arr[mid] == query:\n",
        "      return mid\n",
        "    elif arr[mid] > query:\n",
        "      high = mid - 1\n",
        "    else:\n",
        "      low = mid + 1\n",
        "  return -1\n",
        "  "
      ],
      "execution_count": 6,
      "outputs": []
    },
    {
      "cell_type": "code",
      "metadata": {
        "colab": {
          "base_uri": "https://localhost:8080/"
        },
        "id": "dxBwF_L3MsWt",
        "outputId": "974a699d-b1a6-4451-da0b-f35fc7e1aa7d"
      },
      "source": [
        "number = [num for num in range(1,20,3)]\n",
        "print(number)\n",
        "print(binary_search(number, 19))\n"
      ],
      "execution_count": 7,
      "outputs": [
        {
          "output_type": "stream",
          "name": "stdout",
          "text": [
            "[1, 4, 7, 10, 13, 16, 19]\n",
            "6\n"
          ]
        }
      ]
    },
    {
      "cell_type": "code",
      "metadata": {
        "id": "8fMPIl6zNHnr"
      },
      "source": [
        "number = [2,4,10,10,10,18,20]"
      ],
      "execution_count": 11,
      "outputs": []
    },
    {
      "cell_type": "code",
      "metadata": {
        "id": "S226amgANsym"
      },
      "source": [
        "def binary_search(arr, query):\n",
        "  low = 0\n",
        "  high = len(arr) - 1\n",
        "\n",
        "  while low <= high:\n",
        "    mid = (low+high)//2\n",
        "\n",
        "    if arr[mid] == query:\n",
        "      while arr[mid] == query:\n",
        "        starts_at = mid\n",
        "        mid -= 1\n",
        "      mid = (low+high)//2\n",
        "      while arr[mid] == query:\n",
        "        ends_at = mid\n",
        "        mid +=1\n",
        "      return f'starts at {starts_at}, ends_at {ends_at}'\n",
        "\n",
        "    elif arr[mid] > query:\n",
        "      high = mid - 1\n",
        "    else:\n",
        "      low = mid + 1\n",
        "  return -1"
      ],
      "execution_count": 17,
      "outputs": []
    },
    {
      "cell_type": "code",
      "metadata": {
        "colab": {
          "base_uri": "https://localhost:8080/"
        },
        "id": "stO3l-cvRIHO",
        "outputId": "2be1f6c3-b1f2-49c7-febe-eece42b4c062"
      },
      "source": [
        "print(binary_search(number,10))"
      ],
      "execution_count": 18,
      "outputs": [
        {
          "output_type": "stream",
          "name": "stdout",
          "text": [
            "starts at 2, ends_at 4\n"
          ]
        }
      ]
    },
    {
      "cell_type": "code",
      "metadata": {
        "colab": {
          "base_uri": "https://localhost:8080/"
        },
        "id": "lRENaXQkPbhe",
        "outputId": "32816b25-dbe2-4cbb-c8ea-0f5452c2a20c"
      },
      "source": [
        "seti = set()\n",
        "seti.add(1)\n",
        "seti"
      ],
      "execution_count": 10,
      "outputs": [
        {
          "output_type": "execute_result",
          "data": {
            "text/plain": [
              "{1}"
            ]
          },
          "metadata": {},
          "execution_count": 10
        }
      ]
    },
    {
      "cell_type": "code",
      "metadata": {
        "id": "6xnA0U-xPhau"
      },
      "source": [
        ""
      ],
      "execution_count": null,
      "outputs": []
    }
  ]
}