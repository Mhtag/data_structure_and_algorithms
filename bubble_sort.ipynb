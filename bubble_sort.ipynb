{
  "nbformat": 4,
  "nbformat_minor": 0,
  "metadata": {
    "colab": {
      "name": "bubble_sort.ipynb",
      "provenance": [],
      "authorship_tag": "ABX9TyOBpmqCIhGuz8dSHrdMS1TH",
      "include_colab_link": true
    },
    "kernelspec": {
      "name": "python3",
      "display_name": "Python 3"
    },
    "language_info": {
      "name": "python"
    }
  },
  "cells": [
    {
      "cell_type": "markdown",
      "metadata": {
        "id": "view-in-github",
        "colab_type": "text"
      },
      "source": [
        "<a href=\"https://colab.research.google.com/github/Mhtag/data_structure_and_algorithms/blob/main/bubble_sort.ipynb\" target=\"_parent\"><img src=\"https://colab.research.google.com/assets/colab-badge.svg\" alt=\"Open In Colab\"/></a>"
      ]
    },
    {
      "cell_type": "code",
      "metadata": {
        "id": "Bm_Bc8nCyIhH"
      },
      "source": [
        "\n",
        "def bubble_sort(nums):\n",
        "  size = len(nums)\n",
        "  swapped = False\n",
        "  for j in range(size-1):\n",
        "    for i in range(size-1-j):\n",
        "      if nums[i] > nums[i+1]:\n",
        "        temp = nums[i+1]\n",
        "        nums[i+1] = nums[i]\n",
        "        nums[i] = temp\n",
        "        swapped = True\n",
        "    if not swapped:\n",
        "      break\n",
        "  return nums\n",
        "\n"
      ],
      "execution_count": 19,
      "outputs": []
    },
    {
      "cell_type": "code",
      "metadata": {
        "colab": {
          "base_uri": "https://localhost:8080/"
        },
        "id": "oRu3YVWtzxWm",
        "outputId": "86332c75-93ec-4f87-d573-2f98c4b5fd2b"
      },
      "source": [
        "nums = [20,19,7,5,2,16,12,38,26]\n",
        "a = bubble_sort(nums)\n",
        "print(a)"
      ],
      "execution_count": 20,
      "outputs": [
        {
          "output_type": "stream",
          "name": "stdout",
          "text": [
            "[2, 5, 7, 12, 16, 19, 20, 26, 38]\n"
          ]
        }
      ]
    },
    {
      "cell_type": "code",
      "metadata": {
        "colab": {
          "base_uri": "https://localhost:8080/"
        },
        "id": "mW9vKZx52nOF",
        "outputId": "52157edc-8a33-4817-c91e-1a1fc06acc7f"
      },
      "source": [
        "elements = [\n",
        "        { 'name': 'mona',   'transaction_amount': 1000, 'device': 'iphone-10'},\n",
        "        { 'name': 'dhaval', 'transaction_amount': 400,  'device': 'google pixel'},\n",
        "        { 'name': 'kathy',  'transaction_amount': 200,  'device': 'vivo'},\n",
        "        { 'name': 'aamir',  'transaction_amount': 800,  'device': 'iphone-8'},\n",
        "    ]\n",
        "len(elements)"
      ],
      "execution_count": 16,
      "outputs": [
        {
          "output_type": "execute_result",
          "data": {
            "text/plain": [
              "4"
            ]
          },
          "metadata": {},
          "execution_count": 16
        }
      ]
    },
    {
      "cell_type": "code",
      "metadata": {
        "colab": {
          "base_uri": "https://localhost:8080/"
        },
        "id": "PEfT6XVi4_G_",
        "outputId": "b1e411b8-b9ef-49f6-e54c-9ab91c3f5156"
      },
      "source": [
        "elements[2]"
      ],
      "execution_count": 25,
      "outputs": [
        {
          "output_type": "execute_result",
          "data": {
            "text/plain": [
              "{'device': 'vivo', 'name': 'kathy', 'transaction_amount': 200}"
            ]
          },
          "metadata": {},
          "execution_count": 25
        }
      ]
    },
    {
      "cell_type": "code",
      "metadata": {
        "id": "QWqTB9Mc4DoO"
      },
      "source": [
        "def bubble_sort(elements, key):\n",
        "  size = len(elements)\n",
        "  swapped = False\n",
        "  for j in range(size-1):\n",
        "    for i in range(size-1-j):\n",
        "      if elements[i][key] > elements[i+1][key]:\n",
        "        temp = elements[i+1]\n",
        "        elements[i+1] = elements[i]\n",
        "        elements[i] = temp\n",
        "        swapped = True\n",
        "    if not swapped:\n",
        "      break\n",
        "  return elements"
      ],
      "execution_count": 26,
      "outputs": []
    },
    {
      "cell_type": "code",
      "metadata": {
        "colab": {
          "base_uri": "https://localhost:8080/"
        },
        "id": "imPCxUQU8E83",
        "outputId": "7ea28923-1397-405e-b91b-7ae9b04aa4d5"
      },
      "source": [
        "sorted_element = bubble_sort(elements=elements, key='name')\n",
        "sorted_element"
      ],
      "execution_count": 29,
      "outputs": [
        {
          "output_type": "execute_result",
          "data": {
            "text/plain": [
              "[{'device': 'iphone-8', 'name': 'aamir', 'transaction_amount': 800},\n",
              " {'device': 'google pixel', 'name': 'dhaval', 'transaction_amount': 400},\n",
              " {'device': 'vivo', 'name': 'kathy', 'transaction_amount': 200},\n",
              " {'device': 'iphone-10', 'name': 'mona', 'transaction_amount': 1000}]"
            ]
          },
          "metadata": {},
          "execution_count": 29
        }
      ]
    },
    {
      "cell_type": "code",
      "metadata": {
        "id": "lYdBinxK8dvO"
      },
      "source": [
        ""
      ],
      "execution_count": null,
      "outputs": []
    }
  ]
}